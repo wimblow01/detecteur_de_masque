{
 "cells": [
  {
   "cell_type": "code",
   "execution_count": 1,
   "metadata": {},
   "outputs": [],
   "source": [
    "from tensorflow.keras.models import load_model\n",
    "import matplotlib.pyplot as plt\n",
    "import cv2\n",
    "import numpy as np"
   ]
  },
  {
   "cell_type": "markdown",
   "metadata": {},
   "source": [
    "## Chargement du modèle"
   ]
  },
  {
   "cell_type": "code",
   "execution_count": 2,
   "metadata": {},
   "outputs": [],
   "source": [
    "model = load_model('mask_model')\n",
    "color_dict={0:(0,255,0),1:(0,0,255)}"
   ]
  },
  {
   "cell_type": "code",
   "execution_count": 3,
   "metadata": {},
   "outputs": [],
   "source": [
    "face_clsfr=cv2.CascadeClassifier('haarcascades_cuda/haarcascade_frontalface_default.xml')"
   ]
  },
  {
   "cell_type": "markdown",
   "metadata": {},
   "source": [
    "## Détection de masque sur vidéo"
   ]
  },
  {
   "cell_type": "code",
   "execution_count": 10,
   "metadata": {},
   "outputs": [],
   "source": [
    "def show_webcam(mirror=False):\n",
    "    cam = cv2.VideoCapture(0)\n",
    "    while True:\n",
    "        ret,frame=cam.read()\n",
    "        gray=cv2.cvtColor(frame,cv2.COLOR_BGR2GRAY)\n",
    "        faces=face_clsfr.detectMultiScale(gray,1.3,5)  \n",
    "        \n",
    "        #traitement image\n",
    "        resized=cv2.resize(gray,(100,100))\n",
    "        normalized=resized.astype('float')/255.0\n",
    "        reshaped=normalized.reshape(1,100,100,1)\n",
    "        result=model.predict(reshaped)\n",
    "\n",
    "\n",
    "        \n",
    "        if result[0][0] > 0.5:\n",
    "            for (x,y,w,h) in faces:\n",
    "                cv2.rectangle(frame,(x,y),(x+w,y+h),color_dict[1],2)\n",
    "                #frame = cv2.rectangle(frame,(x,y),(x+w,y+h),(0,0,255),2)\n",
    "                #roi_gray = gray[y:y+h, x:x+w]\n",
    "                #roi_color = frame[y:y+h, x:x+w]\n",
    "        else:\n",
    "            for (x,y,w,h) in faces:\n",
    "                cv2.rectangle(frame,(x,y),(x+w,y+h),color_dict[0],2)\n",
    "                #frame = cv2.rectangle(frame,(x,y),(x+w,y+h),(0,255,0),2)\n",
    "                #roi_gray = gray[y:y+h, x:x+w]\n",
    "                #roi_color = frame[y:y+h, x:x+w]\n",
    "        \n",
    "        if mirror: \n",
    "            frame = cv2.flip(frame, 1)\n",
    "        cv2.imshow('my webcam', frame)\n",
    "        cv2\n",
    "        if cv2.waitKey(1) == 27: \n",
    "            break  # esc to quit\n",
    "    cam.release()\n",
    "    cv2.destroyAllWindows()"
   ]
  },
  {
   "cell_type": "code",
   "execution_count": 11,
   "metadata": {},
   "outputs": [],
   "source": [
    "show_webcam(mirror=True)"
   ]
  },
  {
   "cell_type": "code",
   "execution_count": null,
   "metadata": {},
   "outputs": [],
   "source": []
  },
  {
   "cell_type": "code",
   "execution_count": null,
   "metadata": {},
   "outputs": [],
   "source": []
  }
 ],
 "metadata": {
  "kernelspec": {
   "display_name": "Python 3",
   "language": "python",
   "name": "python3"
  },
  "language_info": {
   "codemirror_mode": {
    "name": "ipython",
    "version": 3
   },
   "file_extension": ".py",
   "mimetype": "text/x-python",
   "name": "python",
   "nbconvert_exporter": "python",
   "pygments_lexer": "ipython3",
   "version": "3.8.3"
  }
 },
 "nbformat": 4,
 "nbformat_minor": 4
}
